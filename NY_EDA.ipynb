{
 "cells": [
  {
   "cell_type": "markdown",
   "metadata": {},
   "source": [
    "# Data Exploratory Analysis"
   ]
  },
  {
   "cell_type": "code",
   "execution_count": null,
   "metadata": {},
   "outputs": [],
   "source": [
    "import csv\n",
    "from pandas import ExcelWriter\n",
    "import datetime, warnings  \n",
    "import matplotlib as mpl\n",
    "import numpy as np\n",
    "import pandas as pd"
   ]
  },
  {
   "cell_type": "code",
   "execution_count": null,
   "metadata": {},
   "outputs": [],
   "source": [
    "\n",
    "from seaborn import distplot\n",
    "import sklearn as skl\n",
    "\n",
    "\n",
    "from sklearn import metrics, linear_model\n",
    "from sklearn.preprocessing import PolynomialFeatures, StandardScaler\n",
    "from sklearn.preprocessing import LabelEncoder, OneHotEncoder\n",
    "from sklearn.model_selection import train_test_split, cross_val_score, cross_val_predict\n",
    "\n",
    "import statsmodels.api as sm\n",
    "from statsmodels.formula.api import ols\n",
    "\n",
    "\n",
    "from scipy.stats import skew, kurtosis\n",
    "from scipy import stats\n",
    "\n"
   ]
  },
  {
   "cell_type": "code",
   "execution_count": null,
   "metadata": {
    "scrolled": false
   },
   "outputs": [],
   "source": [
    "\n",
    "\n",
    "\n",
    "import statistics\n",
    "import statsmodels\n",
    "\n",
    "\n",
    "from matplotlib import pyplot as plt\n",
    "from matplotlib.gridspec import GridSpec\n",
    "\n",
    "from IPython.core.interactiveshell import InteractiveShell\n",
    "InteractiveShell.ast_node_interactivity = 'all'"
   ]
  },
  {
   "cell_type": "code",
   "execution_count": null,
   "metadata": {},
   "outputs": [],
   "source": [
    "city = pd.read_csv('C:/Users/Playdata/py_projects/Mentoring/historical-hourly-weather-data/city_attributes.csv')\n",
    "humidity = pd.read_csv('C:/Users/Playdata/py_projects/Mentoring/historical-hourly-weather-data/humidity.csv')\n",
    "pressure = pd.read_csv('C:/Users/Playdata/py_projects/Mentoring/historical-hourly-weather-data/pressure.csv')\n",
    "temp = pd.read_csv('C:/Users/Playdata/py_projects/Mentoring/historical-hourly-weather-data/temperature.csv')\n",
    "weath_desc = pd.read_csv('C:/Users/Playdata/py_projects/Mentoring/historical-hourly-weather-data/weather_description.csv')\n",
    "windir= pd.read_csv('C:/Users/Playdata/py_projects/Mentoring/historical-hourly-weather-data/wind_direction.csv')\n",
    "windspd=pd.read_csv('C:/Users/Playdata/py_projects/Mentoring/historical-hourly-weather-data/wind_speed.csv')\n"
   ]
  },
  {
   "cell_type": "code",
   "execution_count": null,
   "metadata": {},
   "outputs": [],
   "source": [
    "add_weather = pd.read_csv('C:/Users/Playdata/py_projects/Mentoring/historical-hourly-weather-data/JFK_additional_weather.txt')"
   ]
  },
  {
   "cell_type": "code",
   "execution_count": null,
   "metadata": {},
   "outputs": [],
   "source": [
    "add_weather.info()"
   ]
  },
  {
   "cell_type": "markdown",
   "metadata": {},
   "source": [
    "# Basic Data Exploration"
   ]
  },
  {
   "cell_type": "code",
   "execution_count": null,
   "metadata": {},
   "outputs": [],
   "source": [
    "file_list = [city, humidity, pressure, temp, weath_desc, windir, windspd]\n",
    "\n",
    "for file in file_list:\n",
    "\n",
    "    tab_info = pd.DataFrame(file.dtypes).T.rename(index={0:'column type'})\n",
    "    tab_info = tab_info.append(pd.DataFrame(file.isnull().sum()).T.rename(index={0:'null values(nb)'}))\n",
    "    tab_info=tab_info.append(pd.DataFrame(file.isnull().sum()/file.shape[0]*100).T.rename(index={0:'null values(%)'}))\n",
    "    tab_info"
   ]
  },
  {
   "cell_type": "markdown",
   "metadata": {},
   "source": [
    "# Cleansing "
   ]
  },
  {
   "cell_type": "markdown",
   "metadata": {},
   "source": [
    "##  Weather.CSV"
   ]
  },
  {
   "cell_type": "markdown",
   "metadata": {},
   "source": [
    "### Location(NY), YEAR(2015)"
   ]
  },
  {
   "cell_type": "code",
   "execution_count": null,
   "metadata": {},
   "outputs": [],
   "source": [
    "city_ny = city[city['City']=='New York']\n",
    "humidity_ny = humidity[['datetime','New York']]\n",
    "pressure_ny = pressure[['datetime','New York']]\n",
    "temp_ny = temp[['datetime','New York']]\n",
    "weath_desc_ny = weath_desc[['datetime','New York']]\n",
    "windir_ny = windir[['datetime','New York']]\n",
    "windspd_ny = windspd[['datetime','New York']]"
   ]
  },
  {
   "cell_type": "code",
   "execution_count": null,
   "metadata": {},
   "outputs": [],
   "source": [
    "def setyear(dataset):\n",
    "    dataset = dataset[dataset['datetime'] >= '2014-12-31 22:00:00']\n",
    "    dataset = dataset[dataset['datetime'] < '2016-01-01 02:00:00']\n",
    "    #dataset = dataset\n",
    "    return dataset"
   ]
  },
  {
   "cell_type": "code",
   "execution_count": null,
   "metadata": {},
   "outputs": [],
   "source": [
    "datecolumn = humidity_ny[humidity_ny['datetime'] >= '2014-12-31 22:00:00']\n",
    "datecolumn = datecolumn[humidity_ny['datetime'] < '2016-01-01 02:00:00']\n",
    "datecolumn.drop('New York', axis = 1, inplace = True)\n",
    "datecolumn.shape\n",
    "datecolumn[:5]\n",
    "datecolumn.tail()"
   ]
  },
  {
   "cell_type": "code",
   "execution_count": null,
   "metadata": {},
   "outputs": [],
   "source": [
    "# changing data columns' name to each features, not location name\n",
    "humidity_ny_date = setyear(humidity_ny)\n",
    "humidity_ny_date_ren = humidity_ny_date.rename(columns = {'New York' : 'humidity'})\n",
    "\n",
    "pressure_ny_date = setyear(pressure_ny)\n",
    "pressure_ny_date_ren = pressure_ny_date.rename(columns = {'New York' : 'pressure'})\n",
    "\n",
    "temp_ny_date = setyear(temp_ny)\n",
    "temp_ny_date_ren = temp_ny_date.rename(columns = {'New York' : 'temperature'})\n",
    "\n",
    "weath_desc_ny_date = setyear(weath_desc_ny)\n",
    "weath_desc_ny_date_ren = weath_desc_ny_date.rename(columns = {'New York' : 'weather description'})\n",
    "\n",
    "windir_ny_date = setyear(windir_ny)\n",
    "windir_ny_date_ren = windir_ny_date.rename(columns = {'New York' : 'wind direction'})\n",
    "\n",
    "windspd_ny_date = setyear(windspd_ny)\n",
    "windspd_ny_date_ren = windspd_ny_date.rename(columns ={'New York' : 'wind speed'})"
   ]
  },
  {
   "cell_type": "code",
   "execution_count": null,
   "metadata": {},
   "outputs": [],
   "source": [
    "weather = pd.DataFrame(columns = ['datetime', 'humidity', 'pressure', 'temperature', 'weather description', 'wind direction', 'wind speed'])\n",
    "# , pressure_ny_date_ren, temp_ny_date_ren, weath_desc_ny_date_ren, windir_ny_date_ren, windspd_ny_date_ren)"
   ]
  },
  {
   "cell_type": "code",
   "execution_count": null,
   "metadata": {},
   "outputs": [],
   "source": [
    "weather"
   ]
  },
  {
   "cell_type": "code",
   "execution_count": null,
   "metadata": {},
   "outputs": [],
   "source": [
    "file_list_date = [city, humidity_ny_date, pressure_ny_date, temp_ny_date, weath_desc_ny_date, windir_ny_date, windspd_ny_date]\n",
    "file_list_date_ren = [datecolumn['datetime'], humidity_ny_date_ren['humidity'], pressure_ny_date_ren['pressure'], temp_ny_date_ren['temperature'], weath_desc_ny_date_ren['weather description'], windir_ny_date_ren['wind direction'], windspd_ny_date_ren['wind speed']]\n",
    "# for file in file_list_date_ren:\n",
    "#     pd.concat()\n",
    "# weather\n",
    "weather = pd.concat(file_list_date_ren, axis = 1)\n",
    "# # series로 변형\n",
    "weather.to_csv('weather_transed.csv', sep='\\t')\n",
    "\n",
    "#파일 읽으려면 밑의 명령어와 같이 읽으면 됨.\n",
    "# pd.read_csv('weather_transed.csv',sep='\\t')\n"
   ]
  },
  {
   "cell_type": "code",
   "execution_count": null,
   "metadata": {},
   "outputs": [],
   "source": [
    "weather[:5]\n",
    "weather.tail()"
   ]
  },
  {
   "cell_type": "code",
   "execution_count": null,
   "metadata": {},
   "outputs": [],
   "source": [
    "weather.shape\n",
    "weather.info()\n"
   ]
  },
  {
   "cell_type": "markdown",
   "metadata": {},
   "source": [
    "### Flight.csv"
   ]
  },
  {
   "cell_type": "code",
   "execution_count": null,
   "metadata": {},
   "outputs": [],
   "source": [
    "df = pd.read_csv('C:/Users/Playdata/py_projects/Mentoring/input/flights.csv', low_memory=False)\n",
    "print('Dataframe dimensions=', df.shape)"
   ]
  },
  {
   "cell_type": "code",
   "execution_count": null,
   "metadata": {},
   "outputs": [],
   "source": [
    "df.info()\n",
    "df.isnull().sum()"
   ]
  },
  {
   "cell_type": "code",
   "execution_count": null,
   "metadata": {},
   "outputs": [],
   "source": [
    "df['DATE'] = pd.to_datetime(df[['YEAR','MONTH','DAY']])\n",
    "df_2015_dep= df[df['ORIGIN_AIRPORT'] == \"JFK\"]\n",
    "df_2015_arr = df[df['DESTINATION_AIRPORT'] ==\"JFK\"]\n",
    "df_2015 = df_2015_dep.append(df_2015_arr, ignore_index = True )"
   ]
  },
  {
   "cell_type": "code",
   "execution_count": null,
   "metadata": {},
   "outputs": [],
   "source": [
    "df_2015.shape #(187620, 32)"
   ]
  },
  {
   "cell_type": "code",
   "execution_count": null,
   "metadata": {},
   "outputs": [],
   "source": [
    "df_2015 = df_2015[df_2015['ORIGIN_AIRPORT'] == 'JFK']"
   ]
  },
  {
   "cell_type": "code",
   "execution_count": null,
   "metadata": {},
   "outputs": [],
   "source": [
    "df_2015.shape #(93811, 32)"
   ]
  },
  {
   "cell_type": "code",
   "execution_count": null,
   "metadata": {},
   "outputs": [],
   "source": [
    "#SCHEDULED_DEPARTURE = HHMM 의 int 형식으로 되어있음\n",
    "# 시간으로 변환\n",
    "def format_heure(chaine):\n",
    "    if pd.isnull(chaine):\n",
    "        return np.nan\n",
    "    else:\n",
    "        if chaine == 2400 : chaine = 0 \n",
    "        chaine = \"{0:04d}\".format(int(chaine))\n",
    "        heure = datetime.time(int(chaine[0:2]), int(chaine[2:4]))\n",
    "        return heure\n",
    "    \n",
    "def combine_date_heure(x):\n",
    "    if pd.isnull(x[0]) or pd.isnull(x[1]):\n",
    "        return np.nan\n",
    "    else:\n",
    "        return datetime.datetime.combine(x[0],x[1])\n",
    "    \n",
    "def create_flight_time(df, col):    \n",
    "    liste = []\n",
    "    for index, cols in df[['DATE', col]].iterrows():    \n",
    "        if pd.isnull(cols[1]):\n",
    "            liste.append(np.nan)\n",
    "        elif float(cols[1]) == 2400:\n",
    "            cols[0] += datetime.timedelta(days=1)\n",
    "            cols[1] = datetime.time(0,0)\n",
    "            liste.append(combine_date_heure(cols))\n",
    "        else:\n",
    "            cols[1] = format_heure(cols[1])\n",
    "            liste.append(combine_date_heure(cols))\n",
    "    return pd.Series(liste)"
   ]
  },
  {
   "cell_type": "code",
   "execution_count": null,
   "metadata": {},
   "outputs": [],
   "source": [
    "df_2015['SCHEDULED_DEPARTURE'] = create_flight_time(df_2015, 'SCHEDULED_DEPARTURE')\n",
    "df_2015['DEPARTURE_TIME'] =df_2015['DEPARTURE_TIME'].apply(format_heure)\n",
    "df_2015['SCHEDULED_ARRIVAL'] =df_2015['SCHEDULED_ARRIVAL'].apply(format_heure)\n",
    "df_2015['ARRIVAL_TIME'] = df_2015['ARRIVAL_TIME'].apply(format_heure)\n",
    "\n",
    "df_2015.loc[:5, ['SCHEDULED_DEPARTURE', 'SCHEDULED_ARRIVAL', 'DEPARTURE_TIME', 'ARRIVAL_TIME', 'DEPARTURE_DELAY', 'ARRIVAL_DELAY']]"
   ]
  },
  {
   "cell_type": "code",
   "execution_count": null,
   "metadata": {},
   "outputs": [],
   "source": [
    "variables_to_remove = ['TAXI_OUT', 'TAXI_IN', 'WHEELS_ON', 'WHEELS_OFF','YEAR', 'MONTH','DAY','DAY_OF_WEEK','DATE', 'AIR_SYSTEM_DELAY','SECURITY_DELAY','AIRLINE_DELAY','LATE_AIRCRAFT_DELAY','WEATHER_DELAY', 'DIVERTED', 'CANCELLED','CANCELLATION_REASON','FLIGHT_NUMBER', 'TAIL_NUMBER', 'AIR_TIME']\n",
    "df_2015.drop(variables_to_remove, axis = 1, inplace = True)\n",
    "df_2015 = df_2015[['AIRLINE', 'ORIGIN_AIRPORT', 'DESTINATION_AIRPORT',\n",
    "        'SCHEDULED_DEPARTURE', 'DEPARTURE_TIME', 'DEPARTURE_DELAY',\n",
    "        'SCHEDULED_ARRIVAL', 'ARRIVAL_TIME', 'ARRIVAL_DELAY',\n",
    "        'SCHEDULED_TIME', 'ELAPSED_TIME']]\n",
    "\n",
    "df_2015[:5]"
   ]
  },
  {
   "cell_type": "code",
   "execution_count": null,
   "metadata": {},
   "outputs": [],
   "source": [
    "df_2015.to_csv('df_2015.csv', sep='\\t')\n",
    "# pd.read_csv('df_2015.csv', sep = \"\\t\")"
   ]
  },
  {
   "cell_type": "code",
   "execution_count": null,
   "metadata": {},
   "outputs": [],
   "source": [
    "df_2015.info()"
   ]
  },
  {
   "cell_type": "code",
   "execution_count": null,
   "metadata": {},
   "outputs": [],
   "source": [
    "df_2015.isnull().sum()"
   ]
  },
  {
   "cell_type": "code",
   "execution_count": null,
   "metadata": {},
   "outputs": [],
   "source": [
    "file_fin = [weather, df_2015]\n",
    "for file in file_fin:\n",
    "    tab_info = pd.DataFrame(file.dtypes).T.rename(index={0:'column type'})\n",
    "    tab_info = tab_info.append(pd.DataFrame(file.isnull().sum()).T.rename(index={0:'null values(nb)'}))\n",
    "    tab_info=tab_info.append(pd.DataFrame(file.isnull().sum()/df.shape[0]*100).T.rename(index={0:'null values(%)'}))\n",
    "    tab_info\n",
    "\n",
    "df_2015_wonull = pd.DataFrame.dropna(df_2015, how ='any')\n",
    "df_2015_wonull.info()\n",
    "\n",
    "file_fin = [weather, df_2015_wonull]\n",
    "for file in file_fin:\n",
    "    print(file.shape)\n",
    "    tab_info = pd.DataFrame(file.dtypes).T.rename(index={0:'column type'})\n",
    "    tab_info = tab_info.append(pd.DataFrame(file.isnull().sum()).T.rename(index={0:'null values(nb)'}))\n",
    "    tab_info=tab_info.append(pd.DataFrame(file.isnull().sum()/df.shape[0]*100).T.rename(index={0:'null values(%)'}))\n",
    "\n",
    "    tab_info"
   ]
  },
  {
   "cell_type": "code",
   "execution_count": null,
   "metadata": {},
   "outputs": [],
   "source": [
    "weather.info()\n",
    "\n",
    "df_2015_wonull.info()\n",
    "\n",
    "def whether_delayed(time):\n",
    "    if time >= 120:\n",
    "        return 'y'\n",
    "    else:\n",
    "        return 'n'\n",
    "\n",
    "df_2015_wonull['DEPARTURE DELAYED?'] = df_2015_wonull['DEPARTURE_DELAY'].apply(whether_delayed)\n",
    "\n",
    "# df_2015_wonull\n",
    "# df_2015_wonull.info()\n",
    "df_fin = df_2015_wonull\n",
    "\n",
    "df_fin[df_fin['DEPARTURE DELAYED?'] == 'y']\n"
   ]
  },
  {
   "cell_type": "code",
   "execution_count": null,
   "metadata": {},
   "outputs": [],
   "source": [
    "\n",
    "## Normalisation\n",
    "\n",
    "def normalize(dataset):\n",
    "    dataSTNorm=((dataset-dataset.mean())/(dataset.max()-dataset.min()))*20\n",
    "    dataNorm[\"diagnosis\"]=dataset[\"diagnosis\"]\n",
    "    return dataNorm\n",
    "\n",
    "weather_list_float = ['humidity', 'pressure', 'temperature', 'wind direction', 'wind speed']\n",
    "humidity_std = statistics.stdev(weather['humidity'])\n",
    "pressure_std = statistics.stdev(weather['pressure'])\n",
    "temperature_std = statistics.stdev(weather['temperature'])\n",
    "wind_direction_std = statistics.stdev(weather['wind direction'])\n",
    "wind_speed_std = statistics.stdev(weather['wind speed'])\n",
    "\n",
    "for i in weather_list_float:\n",
    "    normed_list = weather[i].tolist()\n",
    "    data_norm_list = []\n",
    "    for norms in normed_list:\n",
    "        data_norm = ((norms - np.mean(normed_list))/(np.max(normed_list) - np.min(normed_list)))\n",
    "        data_norm_list.append(data_norm)\n",
    "#     print(i, data_norm_list)\n",
    "    weather[i+'_norm'] = data_norm_list\n",
    "\n",
    "# 특정 시간에 관한 날씨 데이터\n",
    "# 날씨 : a -> b\n",
    "# 데이터 시간 : x시 -> y시 (1시간 차이라고 가정)\n",
    "# 실제 비행편 x시 **분\n",
    "# (a + |(b-a)| * (**/60))\n",
    "\n",
    "weather['count'] = 1\n"
   ]
  },
  {
   "cell_type": "code",
   "execution_count": null,
   "metadata": {},
   "outputs": [],
   "source": [
    "for i in weather_list_float:\n",
    "    normed_list = weather[i].tolist()\n",
    "    data_norm_list = []\n",
    "    for norms in normed_list:\n",
    "        data_norm = ((norms - np.mean(normed_list))/np.std(normed_list))\n",
    "        data_norm_list.append(data_norm)\n",
    "#     print(i, data_norm_list)\n",
    "    weather[i+'_std'] = data_norm_list"
   ]
  },
  {
   "cell_type": "markdown",
   "metadata": {},
   "source": [
    "## add_weather.csv"
   ]
  },
  {
   "cell_type": "code",
   "execution_count": null,
   "metadata": {},
   "outputs": [],
   "source": [
    "add_weather.columns\n",
    "add_weather[:5]\n",
    "add_weather.shape #(183335, 13)\n",
    "add_weather.info"
   ]
  },
  {
   "cell_type": "code",
   "execution_count": null,
   "metadata": {},
   "outputs": [],
   "source": [
    "add_weather['Date'] = pd.to_datetime(add_weather['Date'], infer_datetime_format= True)\n"
   ]
  },
  {
   "cell_type": "code",
   "execution_count": null,
   "metadata": {},
   "outputs": [],
   "source": [
    "add_weather = add_weather[add_weather['Date'] >= '2014-12-31']\n",
    "add_weather = add_weather[add_weather['Date'] <= '2016-01-01']\n",
    "# add_weather\n",
    "\n",
    "# dataset = dataset[dataset['datetime'] >= '2014-12-31 22:00:00']"
   ]
  },
  {
   "cell_type": "code",
   "execution_count": null,
   "metadata": {},
   "outputs": [],
   "source": [
    "add_weather.columns\n",
    "add_weather[:5]\n",
    "add_weather.shape #(8808, 13)\n",
    "add_weather.info"
   ]
  },
  {
   "cell_type": "code",
   "execution_count": null,
   "metadata": {},
   "outputs": [],
   "source": [
    "hours = list(add_weather['Hour'].values)\n",
    "dates = add_weather['Date']\n",
    "dates[:5]"
   ]
  },
  {
   "cell_type": "code",
   "execution_count": null,
   "metadata": {},
   "outputs": [],
   "source": [
    "hours"
   ]
  },
  {
   "cell_type": "code",
   "execution_count": null,
   "metadata": {},
   "outputs": [],
   "source": [
    "aaa = dates.tolist()\n",
    "# aaa\n",
    "aa = []\n",
    "for i in aaa:\n",
    "    a = '{:%Y-%m-%d}'.format(i)\n",
    "    aa.append(a)\n",
    "# aa"
   ]
  },
  {
   "cell_type": "code",
   "execution_count": null,
   "metadata": {},
   "outputs": [],
   "source": [
    "hrs=[]\n",
    "for t in hours:\n",
    "    t = str(\"{0:02d}\".format(int(t))) + ':00:00'\n",
    "    hrs.append(t)\n",
    "    "
   ]
  },
  {
   "cell_type": "code",
   "execution_count": null,
   "metadata": {},
   "outputs": [],
   "source": [
    "a = pd.DataFrame(aa, columns=list('a'))"
   ]
  },
  {
   "cell_type": "code",
   "execution_count": null,
   "metadata": {},
   "outputs": [],
   "source": [
    "b = pd.DataFrame(hrs, columns=list('a'))"
   ]
  },
  {
   "cell_type": "code",
   "execution_count": null,
   "metadata": {},
   "outputs": [],
   "source": [
    "encore = a+' '+b\n",
    "encore"
   ]
  },
  {
   "cell_type": "code",
   "execution_count": null,
   "metadata": {},
   "outputs": [],
   "source": [
    "encore['a'] = pd.to_datetime(encore['a'],infer_datetime_format=True)"
   ]
  },
  {
   "cell_type": "code",
   "execution_count": null,
   "metadata": {},
   "outputs": [],
   "source": [
    "datetime = list(encore['a'])"
   ]
  },
  {
   "cell_type": "code",
   "execution_count": null,
   "metadata": {},
   "outputs": [],
   "source": [
    "add_weather[:5]"
   ]
  },
  {
   "cell_type": "code",
   "execution_count": null,
   "metadata": {},
   "outputs": [],
   "source": [
    "add_weather.columns\n",
    "#['Site', 'Date', 'Hour', 'Temperature', 'Dewpoint', 'RH', 'WindDir',\n",
    "#       'Windspeed', 'CldFrac', 'MSLP', 'Weather', 'Precip', 'Source']"
   ]
  },
  {
   "cell_type": "code",
   "execution_count": null,
   "metadata": {},
   "outputs": [],
   "source": [
    "encore['a'][:5]"
   ]
  },
  {
   "cell_type": "code",
   "execution_count": null,
   "metadata": {},
   "outputs": [],
   "source": [
    "add_weather['a'] = datetime"
   ]
  },
  {
   "cell_type": "code",
   "execution_count": null,
   "metadata": {},
   "outputs": [],
   "source": [
    "add_weather[:5]"
   ]
  },
  {
   "cell_type": "code",
   "execution_count": null,
   "metadata": {},
   "outputs": [],
   "source": [
    "add_weather.rename(columns = {'a' : 'datetime'}, inplace = True)\n",
    "add_weather[:5]"
   ]
  },
  {
   "cell_type": "code",
   "execution_count": null,
   "metadata": {},
   "outputs": [],
   "source": [
    "add_weather.columns"
   ]
  },
  {
   "cell_type": "code",
   "execution_count": null,
   "metadata": {},
   "outputs": [],
   "source": [
    "add_weather[['datetime', 'Dewpoint', 'RH', 'CldFrac', 'MSLP', 'Precip']]"
   ]
  },
  {
   "cell_type": "code",
   "execution_count": null,
   "metadata": {},
   "outputs": [],
   "source": [
    "weather['datetime'] =  pd.to_datetime(weather['datetime'], infer_datetime_format =True)\n",
    "df_fin['datetime'] = df_fin['SCHEDULED_DEPARTURE'].dt.round(\"H\")"
   ]
  },
  {
   "cell_type": "code",
   "execution_count": null,
   "metadata": {},
   "outputs": [],
   "source": [
    "dataset_fin = pd.merge(df_fin, weather, on='datetime')\n",
    "dataset_fin = pd.merge(dataset_fin, add_weather, on = 'datetime')\n",
    "dataset_fin\n",
    "\n",
    "dataset_fin.info()\n",
    "df_fin.info()\n"
   ]
  },
  {
   "cell_type": "code",
   "execution_count": null,
   "metadata": {},
   "outputs": [],
   "source": [
    "dataset_fin.columns"
   ]
  },
  {
   "cell_type": "code",
   "execution_count": null,
   "metadata": {},
   "outputs": [],
   "source": []
  },
  {
   "cell_type": "code",
   "execution_count": null,
   "metadata": {},
   "outputs": [],
   "source": [
    "\n",
    "dataset_final = dataset_fin[['AIRLINE', 'DESTINATION_AIRPORT',\n",
    "       'SCHEDULED_DEPARTURE', 'DEPARTURE_TIME', 'DEPARTURE_DELAY',\n",
    "       'SCHEDULED_ARRIVAL', 'ARRIVAL_TIME', 'ARRIVAL_DELAY', 'SCHEDULED_TIME',\n",
    "       'ELAPSED_TIME', 'DEPARTURE DELAYED?', 'datetime', 'humidity',\n",
    "       'pressure', 'temperature', 'weather description', 'wind direction',\n",
    "       'wind speed', 'Dewpoint', 'RH', 'CldFrac', 'MSLP', 'Weather', 'Precip']]\n",
    "dataset_final #91663 rows × 28 columns\n"
   ]
  },
  {
   "cell_type": "code",
   "execution_count": null,
   "metadata": {},
   "outputs": [],
   "source": [
    "def delayiing(y):\n",
    "    if y == 'y':\n",
    "        return 1\n",
    "    else:\n",
    "        return 2\n",
    "\n",
    "dataset_final.info()\n",
    "\n",
    "FINAL_SET = dataset_final\n",
    "FINAL_SET.columns\n",
    "#Index(['AIRLINE', 'DESTINATION_AIRPORT', 'SCHEDULED_DEPARTURE',\n",
    "#        'DEPARTURE_TIME', 'DEPARTURE_DELAY', 'SCHEDULED_ARRIVAL',\n",
    "#        'ARRIVAL_TIME', 'ARRIVAL_DELAY', 'SCHEDULED_TIME', 'ELAPSED_TIME',\n",
    "#        'DEPARTURE DELAYED?', 'datetime', 'humidity', 'pressure', 'temperature',\n",
    "#        'weather description', 'wind direction', 'wind speed', 'Site', 'Date',\n",
    "#        'Hour', 'Temperature', 'Dewpoint', 'RH', 'CldFrac', 'MSLP', 'Weather',\n",
    "#        'Precip'],"
   ]
  },
  {
   "cell_type": "code",
   "execution_count": null,
   "metadata": {},
   "outputs": [],
   "source": [
    "FINAL_SET['DEPARTURE DELAYED?'][:5]"
   ]
  },
  {
   "cell_type": "code",
   "execution_count": null,
   "metadata": {},
   "outputs": [],
   "source": [
    "FINAL_SET.shape #(91663, 24)\n",
    "FINAL_SET.info()\n"
   ]
  },
  {
   "cell_type": "code",
   "execution_count": null,
   "metadata": {},
   "outputs": [],
   "source": [
    "FINAL_SET.isnull().sum()"
   ]
  },
  {
   "cell_type": "markdown",
   "metadata": {},
   "source": [
    "## Renaming Columns"
   ]
  },
  {
   "cell_type": "code",
   "execution_count": null,
   "metadata": {},
   "outputs": [],
   "source": [
    "FINAL_SET['DEPARTURE DELAYED?'][:5]"
   ]
  },
  {
   "cell_type": "code",
   "execution_count": null,
   "metadata": {},
   "outputs": [],
   "source": [
    "FINAL_SET.columns"
   ]
  },
  {
   "cell_type": "code",
   "execution_count": null,
   "metadata": {},
   "outputs": [],
   "source": [
    "FINAL_SET.rename(columns = {'datetime' : 'DATETIME',\n",
    "                            'DEPARTURE DELAYED?' :'DEPARTURE_DELAYED_YN',\n",
    "                            'humidity' : 'HUMIDITY',\n",
    "                            'pressure' : 'PRESSURE',\n",
    "                            'temperature' : 'TEMPERATURE',\n",
    "                            'weather description' :'WEATHER_DESCRIPTION',\n",
    "                            'wind direction' : 'WIND_DIRECTION',\n",
    "                            'wind speed' : 'WIND SPEED',\n",
    "                            'Dewpoint' : 'DEW_POINT',\n",
    "                            'RH' : 'RELATIVE_HUMIDITY',\n",
    "                            'CldFrac' : 'CLOUD_FRACTION',\n",
    "                            'MSLP' : 'MEAN_SEA_LEVEL_PRESSURE',\n",
    "                            'weather':'WEATHER',\n",
    "                            'Precip' : 'PRECIPITATION'\n",
    "                           }, inplace = True)\n",
    "\n",
    "\n",
    "\n",
    "\n"
   ]
  },
  {
   "cell_type": "code",
   "execution_count": null,
   "metadata": {},
   "outputs": [],
   "source": [
    "FINAL_SET.to_csv('FINAL_SET.csv', sep='\\t')"
   ]
  },
  {
   "cell_type": "code",
   "execution_count": null,
   "metadata": {},
   "outputs": [],
   "source": [
    "FINAL_SET.columns"
   ]
  },
  {
   "cell_type": "markdown",
   "metadata": {},
   "source": [
    "# Numerical and Graphical Univariate Analysis"
   ]
  },
  {
   "cell_type": "code",
   "execution_count": null,
   "metadata": {},
   "outputs": [],
   "source": [
    "weather[:5]\n",
    "weather.tail()"
   ]
  },
  {
   "cell_type": "raw",
   "metadata": {},
   "source": [
    "central tendency, spread, skewness, and kurtosis \n",
    "\n",
    "central tendency\n",
    "    mean, median(robustnetss), mode\n",
    "    \n",
    "spread\n",
    "    var, stdev\n",
    "    ANOVA\n",
    "    quantile, IQR, boxplot\n",
    "    range\n",
    "\n",
    "    Skewness (e) or kurtosis (u)            Conclusion\n",
    "    −2SE(e) < e < 2SE(e)                    not skewed\n",
    "    e ≤ −2SE(e)                            negative skew\n",
    "    e ≥ 2SE(e)                             positive skew\n",
    "    −2SE(u) < u < 2SE(u)                    not kurtotic\n",
    "    u ≤ −2SE(u)                            negative kurtosis\n",
    "    u ≥ 2SE(u)                             positive kurtosi\n"
   ]
  },
  {
   "cell_type": "code",
   "execution_count": null,
   "metadata": {},
   "outputs": [],
   "source": [
    "weather.describe()"
   ]
  },
  {
   "cell_type": "code",
   "execution_count": null,
   "metadata": {},
   "outputs": [],
   "source": [
    "humidity = weather['humidity']\n",
    "pressure = weather['pressure']\n",
    "temperature = weather['temperature']\n",
    "wind_direction = weather['wind direction']\n",
    "wind_speed = weather['wind speed']\n",
    "\n",
    "columns = [humidity, pressure, temperature, wind_direction, wind_speed]"
   ]
  },
  {
   "cell_type": "code",
   "execution_count": null,
   "metadata": {},
   "outputs": [],
   "source": [
    "humidity.describe()"
   ]
  },
  {
   "cell_type": "code",
   "execution_count": null,
   "metadata": {},
   "outputs": [],
   "source": [
    "def basic_stat(x):\n",
    "    print(x.name)\n",
    "    print(\"skewness = \", skew(x))\n",
    "    print(\"kurtosis = \", kurtosis(x))\n",
    "    print(x.describe())\n",
    "    print(\"median = \", np.median(x))\n",
    "    print(\"mode = \", stats.mode(x))\n",
    "    print('--------------------------------')\n",
    "for col in columns:\n",
    "    basic_stat(col)"
   ]
  },
  {
   "cell_type": "code",
   "execution_count": null,
   "metadata": {},
   "outputs": [],
   "source": [
    "fig = plt.figure(1, figsize=(8,6))\n",
    "gs = GridSpec(1,2)\n",
    "ax1 = fig.add_subplot(gs[0,0])\n",
    "ax2 = fig.add_subplot(gs[0,1])\n",
    "\n",
    "ax2 = sns.distplot(weather['humidity'])\n",
    "ax1.boxplot(weather['humidity'])"
   ]
  },
  {
   "cell_type": "code",
   "execution_count": null,
   "metadata": {},
   "outputs": [],
   "source": [
    "fig = plt.figure(1, figsize=(8,6))\n",
    "gs = GridSpec(1,2)\n",
    "ax1 = fig.add_subplot(gs[0,0])\n",
    "ax2 = fig.add_subplot(gs[0,1])\n",
    "ax2 = sns.distplot(weather['pressure'])\n",
    "ax1.boxplot(weather['pressure'])"
   ]
  },
  {
   "cell_type": "code",
   "execution_count": null,
   "metadata": {},
   "outputs": [],
   "source": [
    "fig = plt.figure(1, figsize=(8,6))\n",
    "gs = GridSpec(1,2)\n",
    "ax1 = fig.add_subplot(gs[0,0])\n",
    "ax2 = fig.add_subplot(gs[0,1])\n",
    "ax2 = sns.distplot(weather['temperature'])\n",
    "ax1.boxplot(weather['temperature'])"
   ]
  },
  {
   "cell_type": "code",
   "execution_count": null,
   "metadata": {},
   "outputs": [],
   "source": [
    "fig = plt.figure(1, figsize=(8,6))\n",
    "gs = GridSpec(1,2)\n",
    "ax1 = fig.add_subplot(gs[0,0])\n",
    "ax2 = fig.add_subplot(gs[0,1])\n",
    "ax2 = sns.distplot(weather['wind direction'])\n",
    "ax1.boxplot(weather['wind direction'])"
   ]
  },
  {
   "cell_type": "code",
   "execution_count": null,
   "metadata": {},
   "outputs": [],
   "source": [
    "fig = plt.figure(1, figsize=(8,6))\n",
    "gs = GridSpec(1,2)\n",
    "ax1 = fig.add_subplot(gs[0,0])\n",
    "ax2 = fig.add_subplot(gs[0,1])\n",
    "ax2 = sns.distplot(weather['wind speed'])\n",
    "ax1.boxplot(weather['wind speed'])"
   ]
  },
  {
   "cell_type": "code",
   "execution_count": null,
   "metadata": {},
   "outputs": [],
   "source": [
    "def unique(list1): \n",
    "    unique_list = [] \n",
    "    for x in list1: \n",
    "        if x not in unique_list: \n",
    "            unique_list.append(x) \n",
    "    for x in unique_list: \n",
    "        print(x)"
   ]
  },
  {
   "cell_type": "code",
   "execution_count": null,
   "metadata": {},
   "outputs": [],
   "source": [
    "unique(weather['weather description']) # 23, 원본 데이터는 38개"
   ]
  },
  {
   "cell_type": "code",
   "execution_count": null,
   "metadata": {},
   "outputs": [],
   "source": [
    "fig = plt.figure(1, figsize=(8,6))\n",
    "gs = GridSpec(1,2)\n",
    "ax1 = fig.add_subplot(gs[0,0])\n",
    "ax2 = fig.add_subplot(gs[0,1])\n",
    "\n",
    "ax2 = sns.distplot(df_2015_wonull['DEPARTURE_DELAY'])\n",
    "ax1.boxplot(df_2015_wonull['DEPARTURE_DELAY'])"
   ]
  },
  {
   "cell_type": "code",
   "execution_count": null,
   "metadata": {},
   "outputs": [],
   "source": [
    "fig = plt.figure(1, figsize=(8,6))\n",
    "gs = GridSpec(1,2)\n",
    "ax1 = fig.add_subplot(gs[0,0])\n",
    "ax2 = fig.add_subplot(gs[0,1])\n",
    "\n",
    "ax2 = sns.distplot(df_2015_wonull['ARRIVAL_DELAY'])\n",
    "ax1.boxplot(df_2015_wonull['ARRIVAL_DELAY'])"
   ]
  },
  {
   "cell_type": "code",
   "execution_count": null,
   "metadata": {},
   "outputs": [],
   "source": [
    "fig = plt.figure(1, figsize=(8,6))\n",
    "gs = GridSpec(1,2)\n",
    "ax1 = fig.add_subplot(gs[0,0])\n",
    "ax2 = fig.add_subplot(gs[0,1])\n",
    "\n",
    "ax2 = sns.distplot(df_2015_wonull['SCHEDULED_TIME'])\n",
    "ax1.boxplot(df_2015_wonull['SCHEDULED_TIME'])"
   ]
  },
  {
   "cell_type": "code",
   "execution_count": null,
   "metadata": {},
   "outputs": [],
   "source": [
    "fig = plt.figure(1, figsize=(8,6))\n",
    "gs = GridSpec(1,2)\n",
    "ax1 = fig.add_subplot(gs[0,0])\n",
    "ax2 = fig.add_subplot(gs[0,1])\n",
    "\n",
    "ax2 = sns.distplot(df_2015_wonull['ELAPSED_TIME'])\n",
    "ax1.boxplot(df_2015_wonull['ELAPSED_TIME'])"
   ]
  },
  {
   "cell_type": "code",
   "execution_count": null,
   "metadata": {},
   "outputs": [],
   "source": [
    "a = sns.distplot(weather['humidity_std'])\n",
    "a = sns.distplot(weather['pressure_std'])\n",
    "a = sns.distplot(weather['temperature_std'])\n",
    "a = sns.distplot(weather['wind direction_std'])\n",
    "a = sns.distplot(weather['wind speed_std'])\n",
    "a"
   ]
  },
  {
   "cell_type": "code",
   "execution_count": null,
   "metadata": {},
   "outputs": [],
   "source": [
    "a = sns.distplot(weather['humidity_norm'])\n",
    "a = sns.distplot(weather['pressure_norm'])\n",
    "a = sns.distplot(weather['temperature_norm'])\n",
    "a = sns.distplot(weather['wind direction_norm'])\n",
    "a = sns.distplot(weather['wind speed_norm'])\n",
    "a"
   ]
  },
  {
   "cell_type": "code",
   "execution_count": null,
   "metadata": {},
   "outputs": [],
   "source": [
    "weather_pi= weather.pivot_table('count', 'weather description', 'humidity', aggfunc = 'sum')\n",
    "sns.heatmap(weather_pi)"
   ]
  },
  {
   "cell_type": "code",
   "execution_count": null,
   "metadata": {},
   "outputs": [],
   "source": [
    "weather[:5]\n",
    "df_fin[:5]"
   ]
  },
  {
   "cell_type": "code",
   "execution_count": null,
   "metadata": {},
   "outputs": [],
   "source": [
    "FINAL_SET['DEPARTURE_DELAY'].plot.hist()"
   ]
  },
  {
   "cell_type": "code",
   "execution_count": null,
   "metadata": {},
   "outputs": [],
   "source": [
    "f, ax = plt.subplots(figsize=(10, 10))\n",
    "sns.despine(f, left=True, bottom=True)\n",
    "sns.scatterplot(x=\"temperature\", y=\"wind speed\",\n",
    "                hue = \"DEPARTURE DELAYED?\",\n",
    "                palette=\"ch:r=-.2,d=.3_r\",\n",
    "                size = \"DEPARTURE_DELAY\",\n",
    "                sizes=(1,2),\n",
    "                linewidth=0,\n",
    "                data=FINAL_SET, ax=ax)"
   ]
  },
  {
   "cell_type": "code",
   "execution_count": null,
   "metadata": {},
   "outputs": [],
   "source": [
    "\n",
    "\n",
    "f, ax = plt.subplots(figsize=(10, 10))\n",
    "sns.despine(f, left=True, bottom=True)\n",
    "sns.scatterplot(x=\"temperature\", y=\"humidity\",\n",
    "                hue = \"DEPARTURE DELAYED?\",\n",
    "                palette=\"ch:r=-.2,d=.3_r\",\n",
    "                sizes=(1, 8), linewidth=0,\n",
    "                data=FINAL_SET, x_jitter = True, y_jitter = True, ax=ax)\n",
    "\n",
    "f, ax = plt.subplots(figsize=(10, 10))\n",
    "sns.despine(f, left=True, bottom=True)\n",
    "sns.scatterplot(x=\"temperature\", y=\"wind direction\",\n",
    "                hue = \"DEPARTURE DELAYED?\",\n",
    "                palette=\"ch:r=-.2,d=.3_r\",\n",
    "                sizes=(1, 8), linewidth=0,\n",
    "                data=FINAL_SET, x_jitter = True, y_jitter = True, ax=ax)\n",
    "\n",
    "f, ax = plt.subplots(figsize=(10, 10))\n",
    "sns.despine(f, left=True, bottom=True)\n",
    "sns.scatterplot(x=\"temperature\", y=\"pressure\",\n",
    "                hue = \"DEPARTURE DELAYED?\",\n",
    "                palette=\"ch:r=-.2,d=.3_r\",\n",
    "                sizes=(1, 8), linewidth=0,\n",
    "                data=FINAL_SET, x_jitter = True, y_jitter = True, ax=ax)"
   ]
  },
  {
   "cell_type": "code",
   "execution_count": null,
   "metadata": {},
   "outputs": [],
   "source": [
    "# 'humidity', 'humidity_std',\n",
    "#        'pressure', 'pressure_std', 'temperature', 'temperature_std',\n",
    "#        'wind direction', 'wind direction_std', 'wind speed', 'wind speed_std',"
   ]
  },
  {
   "cell_type": "code",
   "execution_count": null,
   "metadata": {},
   "outputs": [],
   "source": [
    "f, ax = plt.subplots(figsize=(10, 10))\n",
    "sns.despine(f, left=True, bottom=True)\n",
    "sns.scatterplot(x=\"temperature\", y=\"pressure\",\n",
    "                hue = \"DEPARTURE DELAYED?\",\n",
    "                palette=\"ch:r=-.2,d=.3_r\",\n",
    "                size = \"DEPARTURE_DELAY\",\n",
    "                hue_order=\"DEPARTURE_DELAY\",\n",
    "                sizes=(1, 8), linewidth=0,\n",
    "                data=FINAL_SET, x_jitter = True, y_jitter = True, ax=ax)"
   ]
  },
  {
   "cell_type": "code",
   "execution_count": null,
   "metadata": {},
   "outputs": [],
   "source": [
    "FINAL_SET.columns"
   ]
  },
  {
   "cell_type": "code",
   "execution_count": null,
   "metadata": {},
   "outputs": [],
   "source": [
    "# reviews[reviews['price'] < 100].plot.hexbin(x='price', y='points', gridsize=15)\n",
    "FINAL_SET[FINAL_SET['DEPARTURE_DELAY'] >= 120].plot.hexbin(x='temperature', y=\"humidity\", gridsize = 50)"
   ]
  },
  {
   "cell_type": "code",
   "execution_count": null,
   "metadata": {},
   "outputs": [],
   "source": [
    "FINAL_SET[FINAL_SET['DEPARTURE_DELAY'] >= 120].plot.hexbin(x='temperature', y='pressure', gridsize = 15)\n",
    "FINAL_SET[FINAL_SET['DEPARTURE_DELAY'] >= 120].plot.hexbin(x='temperature', y='wind direction', gridsize = 15)\n",
    "FINAL_SET[FINAL_SET['DEPARTURE_DELAY'] >= 120].plot.hexbin(x='temperature', y='wind speed', gridsize = 15)\n",
    "FINAL_SET[FINAL_SET['DEPARTURE_DELAY'] >= 120].plot.hexbin(x='humidity', y='pressure', gridsize = 15)\n",
    "FINAL_SET[FINAL_SET['DEPARTURE_DELAY'] >= 120].plot.hexbin(x='humidity', y='wind direction', gridsize = 15)\n",
    "FINAL_SET[FINAL_SET['DEPARTURE_DELAY'] >= 120].plot.hexbin(x='humidity', y='wind speed', gridsize = 15)\n",
    "FINAL_SET[FINAL_SET['DEPARTURE_DELAY'] >= 120].plot.hexbin(x='pressure', y='wind direction', gridsize = 15)\n",
    "FINAL_SET[FINAL_SET['DEPARTURE_DELAY'] >= 120].plot.hexbin(x='pressure', y='wind speed', gridsize = 15)"
   ]
  },
  {
   "cell_type": "code",
   "execution_count": null,
   "metadata": {},
   "outputs": [],
   "source": [
    "FINAL_SET.plot.hexbin(x='humidity', y='DEPARTURE DELAYED?', gridsize = 15)\n",
    "FINAL_SET.plot.hexbin(x='pressure', y='DEPARTURE DELAYED?', gridsize = 15)\n",
    "FINAL_SET.plot.hexbin(x='temperature', y='DEPARTURE DELAYED?', gridsize = 15)\n",
    "FINAL_SET.plot.hexbin(x='wind speed', y='DEPARTURE DELAYED?', gridsize = 15)\n",
    "FINAL_SET.plot.hexbin(x='wind direction', y='DEPARTURE DELAYED?', gridsize = 15)\n"
   ]
  },
  {
   "cell_type": "code",
   "execution_count": null,
   "metadata": {},
   "outputs": [],
   "source": [
    "import numpy as np\n",
    "import matplotlib.pyplot as plt\n",
    "from scipy.stats import multivariate_normal\n",
    "from mpl_toolkits.mplot3d import Axes3D\n",
    "\n",
    "#Parameters to set\n",
    "mu_x = 0\n",
    "variance_x = 3\n",
    "\n",
    "mu_y = 0\n",
    "variance_y = 15\n",
    "\n",
    "#Create grid and multivariate normal\n",
    "x = np.linspace(-10,10,500)\n",
    "y = np.linspace(-10,10,500)\n",
    "X, Y = np.meshgrid(x,y)\n",
    "pos = np.empty(X.shape + (2,))\n",
    "pos[:, :, 0] = X; pos[:, :, 1] = Y\n",
    "rv = multivariate_normal([mu_x, mu_y], [[variance_x, 0], [0, variance_y]])\n",
    "\n",
    "#Make a 3D plot\n",
    "fig = plt.figure()\n",
    "ax = fig.gca(projection='3d')\n",
    "ax.plot_surface(X, Y, rv.pdf(pos),cmap='viridis',linewidth=0)\n",
    "ax.set_xlabel('X axis')\n",
    "ax.set_ylabel('Y axis')\n",
    "ax.set_zlabel('Z axis')\n",
    "plt.show()"
   ]
  },
  {
   "cell_type": "code",
   "execution_count": null,
   "metadata": {},
   "outputs": [],
   "source": [
    "def plott_3d(x,y):\n",
    "    #Parameters to set\n",
    "    mu_x = np.mean(x)\n",
    "    variance_x = np.var(x)\n",
    "\n",
    "    mu_y = np.mean(y)\n",
    "    variance_y = np.var(y)\n",
    "    \n",
    "    \n",
    "    min_x, min_y, max_x, max_y = np.min(x), np.min(y), np.max(x), np.max(y)\n",
    "    \n",
    "    #Create grid and multivariate normal\n",
    "    x = np.linspace(min_x - 1, max_x +1, 500)\n",
    "    y = np.linspace(0, 3)\n",
    "    X, Y = np.meshgrid(x,y)\n",
    "    pos = np.empty(X.shape + (2,))\n",
    "    pos[:, :, 0] = X; pos[:, :, 1] = Y\n",
    "    rv = multivariate_normal([mu_x, mu_y], [[variance_x, 0], [0, variance_y]])\n",
    "\n",
    "    #Make a 3D plot\n",
    "    fig = plt.figure()\n",
    "    ax = fig.gca(projection='3d')\n",
    "    ax.plot_surface(X, Y, rv.pdf(pos),cmap='viridis',linewidth=0)\n",
    "    ax.set_xlabel('X axis')\n",
    "    ax.set_ylabel('Y axis')\n",
    "    ax.set_zlabel('Z axis')\n",
    "    plt.show()\n",
    "    multivariate_normal()"
   ]
  },
  {
   "cell_type": "code",
   "execution_count": null,
   "metadata": {},
   "outputs": [],
   "source": [
    "def plott_3d(x,y):\n",
    "    #Parameters to set\n",
    "    mu_x = np.mean(x)\n",
    "    variance_x = np.var(x)\n",
    "\n",
    "    mu_y = np.mean(y)\n",
    "    variance_y = np.var(y)\n",
    "    \n",
    "    \n",
    "    min_x, min_y, max_x, max_y = np.min(x), np.min(y), np.max(x), np.max(y)\n",
    "    \n",
    "    #Create grid and multivariate normal\n",
    "    x = np.linspace(min_x - 1, max_x +1, 500)\n",
    "    y = np.linspace(min_y - 1, max_y +1)\n",
    "    X, Y = np.meshgrid(x,y)\n",
    "    pos = np.empty(X.shape + (2,))\n",
    "    pos[:, :, 0] = X; pos[:, :, 1] = Y\n",
    "    rv = multivariate_normal([mu_x, mu_y], [[variance_x, 0], [0, variance_y]])\n",
    "\n",
    "    #Make a 3D plot\n",
    "    fig = plt.figure()\n",
    "    ax = fig.gca(projection='3d')\n",
    "    ax.plot_surface(X, Y, rv.pdf(pos),cmap='viridis',linewidth=0)\n",
    "    ax.set_xlabel('X axis')\n",
    "    ax.set_ylabel('Y axis')\n",
    "    ax.set_zlabel('Z axis')\n",
    "    plt.show()\n",
    "    multivariate_normal()\n",
    "plott_3d(FINAL_SET['humidity'], FINAL_SET['DEPARTURE_DELAY'])\n",
    "plott_3d(FINAL_SET['temperature'], FINAL_SET['DEPARTURE_DELAY'])\n",
    "plott_3d(FINAL_SET['pressure'], FINAL_SET['DEPARTURE_DELAY'])\n",
    "plott_3d(FINAL_SET['wind speed'], FINAL_SET['DEPARTURE_DELAY'])\n",
    "plott_3d(FINAL_SET['wind direction'], FINAL_SET['DEPARTURE_DELAY'])\n",
    "\n"
   ]
  },
  {
   "cell_type": "code",
   "execution_count": null,
   "metadata": {},
   "outputs": [],
   "source": [
    "plt.hist(FINAL_SET['DEPARTURE_DELAY'], color = 'blue', edgecolor = 'black', bins = 500)\n"
   ]
  },
  {
   "cell_type": "code",
   "execution_count": null,
   "metadata": {},
   "outputs": [],
   "source": [
    "plt.hist(FINAL_SET['DEPARTURE_DELAY'], color = 'blue', range = (120,max(FINAL_SET['DEPARTURE_DELAY'])), edgecolor = 'black', bins = 500)"
   ]
  },
  {
   "cell_type": "code",
   "execution_count": null,
   "metadata": {},
   "outputs": [],
   "source": [
    "FINAL_SET.columns"
   ]
  },
  {
   "cell_type": "markdown",
   "metadata": {},
   "source": [
    "\n",
    "Descriptive statistics / univariate analysis\n",
    "\n",
    "\n",
    "central tendency, spread, skewness, and kurtosis \n",
    "\n",
    "central tendency\n",
    "    mean, median(robustnetss), mode\n",
    "    \n",
    "spread\n",
    "    var, stdev\n",
    "    ANOVA\n",
    "    quantile, IQR, boxplot\n",
    "    range\n",
    "\n",
    "    Skewness (e) or kurtosis (u)            Conclusion\n",
    "    −2SE(e) < e < 2SE(e)                    not skewed\n",
    "    e ≤ −2SE(e)                            negative skew\n",
    "    e ≥ 2SE(e)                             positive skew\n",
    "    −2SE(u) < u < 2SE(u)                    not kurtotic\n",
    "    u ≤ −2SE(u)                            negative kurtosis\n",
    "    u ≥ 2SE(u)                             positive kurtosi\n",
    "\n",
    "\n",
    "bi/multivariate ananlysis\n",
    "    correlation analysis\n",
    "    quantitative feature - quantitative feature\n",
    "    categorical feature - quantitative feature\n",
    "    d\n",
    "\n",
    "\n",
    "\n",
    "\n",
    "\n"
   ]
  },
  {
   "cell_type": "code",
   "execution_count": null,
   "metadata": {},
   "outputs": [],
   "source": [
    "FINAL_SET.hist(bins=100, figsize=(20,15))\n",
    "plt.tight_layout()\n",
    "plt.show()"
   ]
  },
  {
   "cell_type": "code",
   "execution_count": null,
   "metadata": {},
   "outputs": [],
   "source": [
    "corr_matrix = FINAL_SET.corr()\n",
    "corr_matrix"
   ]
  },
  {
   "cell_type": "code",
   "execution_count": null,
   "metadata": {},
   "outputs": [],
   "source": [
    "plt.figure(figsize=(24, 20))\n",
    "\n",
    "sns.heatmap(corr_matrix, \n",
    "            cmap='viridis', vmax=1.0, vmin=-1.0, linewidths=0.1,\n",
    "            annot=True, annot_kws={\"size\": 8}, square=True);"
   ]
  },
  {
   "cell_type": "markdown",
   "metadata": {},
   "source": [
    "y값으로 1,2 범주형 변수가 아닌 departure delay 사용하고, hue는 departure delay가 120 이상인것에 표시(y,n)"
   ]
  },
  {
   "cell_type": "code",
   "execution_count": null,
   "metadata": {},
   "outputs": [],
   "source": [
    "plt.figure(figsize=(24, 20))\n",
    "gs = GridSpec(1,1)\n",
    "ax1 = fig.add_subplot(gs[0,0])\n",
    "\n",
    "ax1 = sns.countplot(x=\"weather description\", hue=\"DEPARTURE DELAYED?\", data=FINAL_SET)\n",
    "ax1 = plt.tight_layout()\n",
    "ax1 = plt.xticks(rotation=45)\n"
   ]
  },
  {
   "cell_type": "code",
   "execution_count": null,
   "metadata": {},
   "outputs": [],
   "source": [
    "# plt.figure(figsize=(10,50))\n",
    "# gs = GridSpec(1,1)\n",
    "# ax1 = fig.add_subplot(gs[0,0])\n",
    "\n",
    "# ax1 = sns.catplot(x=\"weather description\", hue=\"DEPARTURE DELAYED?\", col=\"DEPARTURE_DELAY\", data=FINAL_SET, kind=\"count\")\n",
    "# ax1 = plt.tight_layout()\n",
    "# ax1 = plt.xticks(rotation=45)\n"
   ]
  },
  {
   "cell_type": "code",
   "execution_count": null,
   "metadata": {},
   "outputs": [],
   "source": [
    "FINAL_SET.columns"
   ]
  },
  {
   "cell_type": "code",
   "execution_count": null,
   "metadata": {},
   "outputs": [],
   "source": [
    "# sns.pairplot(FINAL_SET,hue = 'DEPARTURE DELAYED?')"
   ]
  },
  {
   "cell_type": "code",
   "execution_count": null,
   "metadata": {},
   "outputs": [],
   "source": [
    "FINAL_SET1 = FINAL_SET[['DEPARTURE DELAYED?', 'DEPARTURE_DELAY', 'datetime', 'humidity',\n",
    "       'pressure', 'temperature', 'wind direction','wind speed']]\n",
    "sns.pairplot(FINAL_SET1, hue = 'DEPARTURE DELAYED?')\n"
   ]
  },
  {
   "cell_type": "code",
   "execution_count": null,
   "metadata": {},
   "outputs": [],
   "source": [
    "FINAL_SET['weather description'].astype('category')"
   ]
  },
  {
   "cell_type": "code",
   "execution_count": null,
   "metadata": {},
   "outputs": [],
   "source": [
    "# FINAL_SET['datetime'] = pd.to_datetime(FINAL_SET['datetime'], infer_datetime_format = True)\n",
    "FINAL_SET['datetime_hour'] = FINAL_SET['datetime'].dt.hour"
   ]
  },
  {
   "cell_type": "code",
   "execution_count": null,
   "metadata": {},
   "outputs": [],
   "source": [
    "plt.figure(figsize=(24, 20))\n",
    "gs = GridSpec(1,1)\n",
    "ax1 = fig.add_subplot(gs[0,0])\n",
    "\n",
    "ax1 = sns.countplot(x=FINAL_SET['datetime_hour'], hue=\"DEPARTURE DELAYED?\", data=FINAL_SET)\n",
    "ax1 = plt.tight_layout()\n",
    "ax1 = plt.xticks(rotation=45)"
   ]
  },
  {
   "cell_type": "code",
   "execution_count": null,
   "metadata": {},
   "outputs": [],
   "source": [
    "FINAL_SET1 = FINAL_SET[['DEPARTURE DELAYED?', 'DEPARTURE_DELAY', 'datetime_hour', 'humidity',\n",
    "       'pressure', 'temperature', 'wind direction','wind speed']]\n",
    "sns.pairplot(FINAL_SET1, hue = 'DEPARTURE DELAYED?')\n"
   ]
  },
  {
   "cell_type": "code",
   "execution_count": null,
   "metadata": {},
   "outputs": [],
   "source": [
    "FINAL_SET['DESTINATION_AIRPORT'].astype('category')"
   ]
  },
  {
   "cell_type": "code",
   "execution_count": null,
   "metadata": {},
   "outputs": [],
   "source": [
    "plt.figure(figsize=(24, 20))\n",
    "gs = GridSpec(1,1)\n",
    "ax1 = fig.add_subplot(gs[0,0])\n",
    "\n",
    "ax1 = sns.countplot(x=FINAL_SET['DESTINATION_AIRPORT'], hue=\"DEPARTURE DELAYED?\", data=FINAL_SET)\n",
    "ax1 = plt.tight_layout()\n",
    "ax1 = plt.xticks(rotation=45)"
   ]
  },
  {
   "cell_type": "code",
   "execution_count": null,
   "metadata": {},
   "outputs": [],
   "source": []
  },
  {
   "cell_type": "code",
   "execution_count": null,
   "metadata": {},
   "outputs": [],
   "source": []
  },
  {
   "cell_type": "code",
   "execution_count": null,
   "metadata": {},
   "outputs": [],
   "source": []
  },
  {
   "cell_type": "code",
   "execution_count": null,
   "metadata": {},
   "outputs": [],
   "source": []
  },
  {
   "cell_type": "code",
   "execution_count": null,
   "metadata": {},
   "outputs": [],
   "source": []
  }
 ],
 "metadata": {
  "kernelspec": {
   "display_name": "Python 3",
   "language": "python",
   "name": "python3"
  },
  "language_info": {
   "codemirror_mode": {
    "name": "ipython",
    "version": 3
   },
   "file_extension": ".py",
   "mimetype": "text/x-python",
   "name": "python",
   "nbconvert_exporter": "python",
   "pygments_lexer": "ipython3",
   "version": "3.6.5"
  }
 },
 "nbformat": 4,
 "nbformat_minor": 2
}
